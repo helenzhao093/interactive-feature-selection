{
 "cells": [
  {
   "cell_type": "code",
   "execution_count": 85,
   "metadata": {
    "collapsed": true
   },
   "outputs": [],
   "source": [
    "from mldata import *\n",
    "import numpy as np \n",
    "import csv\n",
    "import pandas as pd"
   ]
  },
  {
   "cell_type": "code",
   "execution_count": 66,
   "metadata": {},
   "outputs": [],
   "source": [
    "from sklearn.ensemble import RandomForestClassifier\n",
    "from sklearn.naive_bayes import GaussianNB\n",
    "from sklearn.model_selection import StratifiedKFold, train_test_split, cross_validate, cross_val_predict"
   ]
  },
  {
   "cell_type": "code",
   "execution_count": 220,
   "metadata": {
    "collapsed": true
   },
   "outputs": [],
   "source": [
    "X = parse_c45('spam')"
   ]
  },
  {
   "cell_type": "code",
   "execution_count": 190,
   "metadata": {
    "collapsed": true
   },
   "outputs": [],
   "source": [
    "X = np.asarray(X)"
   ]
  },
  {
   "cell_type": "code",
   "execution_count": 209,
   "metadata": {},
   "outputs": [],
   "source": [
    "spamY = [d[-1] for d in X]"
   ]
  },
  {
   "cell_type": "code",
   "execution_count": 212,
   "metadata": {},
   "outputs": [],
   "source": [
    "for i in range(len(spamY)):\n",
    "    if spamY[i] == 'True':\n",
    "        spamY[i] = 1\n",
    "    else:\n",
    "        spamY[i] = 0"
   ]
  },
  {
   "cell_type": "code",
   "execution_count": 213,
   "metadata": {
    "collapsed": true
   },
   "outputs": [],
   "source": [
    "spamY = np.asarray(spamY)"
   ]
  },
  {
   "cell_type": "code",
   "execution_count": 221,
   "metadata": {},
   "outputs": [],
   "source": [
    "spam = [d[:-1] for d in X]"
   ]
  },
  {
   "cell_type": "code",
   "execution_count": 222,
   "metadata": {},
   "outputs": [
    {
     "data": {
      "text/plain": [
       "[6421.4953264,\n",
       " 13.0,\n",
       " 329516.0,\n",
       " 65.535,\n",
       " 106.0,\n",
       " 'Windows',\n",
       " 1.31578947368,\n",
       " 2.0,\n",
       " 0.0,\n",
       " 1.0,\n",
       " 0.0,\n",
       " 1.0,\n",
       " 1.0,\n",
       " 6.127125,\n",
       " 0.30451,\n",
       " 1.946314,\n",
       " 0.016047,\n",
       " 14100.0,\n",
       " 1358.04251559]"
      ]
     },
     "execution_count": 222,
     "metadata": {},
     "output_type": "execute_result"
    }
   ],
   "source": [
    "spam = [d[1:] for d in spam]\n",
    "spam[0]"
   ]
  },
  {
   "cell_type": "code",
   "execution_count": 223,
   "metadata": {},
   "outputs": [],
   "source": [
    "for d in spam:\n",
    "    if d[5] == 'Windows':\n",
    "        d[5] = 0\n",
    "    elif d[5] == 'Solaris':\n",
    "        d[5] = 1\n",
    "    elif d[5] == 'Linux':\n",
    "        d[5] = 2\n",
    "    elif d[5] == 'UNKNOWN':\n",
    "        d[5] = 3\n",
    "    elif d[5] == 'FreeBSD':\n",
    "        d[5] = 4\n",
    "    elif d[5] == 'Others':\n",
    "        d[5] = 5\n",
    "    else:\n",
    "        pass"
   ]
  },
  {
   "cell_type": "code",
   "execution_count": 202,
   "metadata": {},
   "outputs": [],
   "source": [
    "spam = np.asarray(spam)"
   ]
  },
  {
   "cell_type": "code",
   "execution_count": 219,
   "metadata": {},
   "outputs": [
    {
     "data": {
      "text/plain": [
       "array(['6421.4953264', '13.0', '329516.0', '65.535', '106.0', '0',\n",
       "       '1.31578947368', '2.0', '0.0', '1.0', '0.0', '1.0', '1.0',\n",
       "       '6.127125', '0.30451', '1.946314', '0.016047', '14100.0',\n",
       "       '1358.04251559'], \n",
       "      dtype='|S14')"
      ]
     },
     "execution_count": 219,
     "metadata": {},
     "output_type": "execute_result"
    }
   ],
   "source": []
  },
  {
   "cell_type": "code",
   "execution_count": 224,
   "metadata": {},
   "outputs": [],
   "source": [
    "np.savetxt('spam_features.csv', spam, delimiter=\",\")"
   ]
  },
  {
   "cell_type": "code",
   "execution_count": 195,
   "metadata": {},
   "outputs": [
    {
     "data": {
      "text/plain": [
       "RandomForestClassifier(bootstrap=True, class_weight=None, criterion='gini',\n",
       "            max_depth=3, max_features='auto', max_leaf_nodes=None,\n",
       "            min_impurity_decrease=0.0, min_impurity_split=None,\n",
       "            min_samples_leaf=1, min_samples_split=2,\n",
       "            min_weight_fraction_leaf=0.0, n_estimators=10, n_jobs=1,\n",
       "            oob_score=False, random_state=0, verbose=0, warm_start=False)"
      ]
     },
     "execution_count": 195,
     "metadata": {},
     "output_type": "execute_result"
    }
   ],
   "source": [
    "clf = RandomForestClassifier(max_depth=3, random_state=0)\n",
    "clf.fit(spam, spamY)"
   ]
  },
  {
   "cell_type": "code",
   "execution_count": 217,
   "metadata": {},
   "outputs": [
    {
     "name": "stdout",
     "output_type": "stream",
     "text": [
      "[14948 14949 14950 ..., 74733 74734 74735]\n",
      "[    0     1     2 ..., 74733 74734 74735]\n",
      "[    0     1     2 ..., 74733 74734 74735]\n",
      "[    0     1     2 ..., 74733 74734 74735]\n",
      "[    0     1     2 ..., 59786 59787 59788]\n",
      "0.862516056519\n"
     ]
    }
   ],
   "source": [
    "clf = RandomForestClassifier(max_depth=15, random_state=0)\n",
    "classify_dataset(spam, spamY, clf, 'spam')"
   ]
  },
  {
   "cell_type": "code",
   "execution_count": 16,
   "metadata": {},
   "outputs": [],
   "source": [
    "def load_data_file(filename, quoting):\n",
    "    arr = []\n",
    "    with open(filename) as csvfile:\n",
    "        reader = csv.reader(csvfile, quoting = quoting)\n",
    "        for row in reader:\n",
    "            arr.append(row)\n",
    "    return arr"
   ]
  },
  {
   "cell_type": "code",
   "execution_count": 21,
   "metadata": {},
   "outputs": [],
   "source": [
    "cardX = load_data_file('cardiotocography3/cardiotocography_.csv', csv.QUOTE_NONNUMERIC)"
   ]
  },
  {
   "cell_type": "code",
   "execution_count": 231,
   "metadata": {},
   "outputs": [],
   "source": [
    "cardY10 = load_data_file('cardiotocography10/cardiotocography_10_target.csv', csv.QUOTE_NONNUMERIC)\n",
    "cardY10 = [d[0] for d in cardY10]"
   ]
  },
  {
   "cell_type": "code",
   "execution_count": 30,
   "metadata": {
    "collapsed": true
   },
   "outputs": [],
   "source": [
    "cardY3 = load_data_file('cardiotocography_target.csv', csv.QUOTE_NONNUMERIC)\n",
    "cardY3 = [d[0] for d in cardY3]"
   ]
  },
  {
   "cell_type": "code",
   "execution_count": 73,
   "metadata": {
    "collapsed": true
   },
   "outputs": [],
   "source": [
    "clf = RandomForestClassifier(max_depth=4, random_state=0)"
   ]
  },
  {
   "cell_type": "code",
   "execution_count": 74,
   "metadata": {},
   "outputs": [],
   "source": [
    "cardX = np.array(cardX)\n",
    "cardY3 = np.array(cardY3)\n",
    "skf = StratifiedKFold(n_splits=5, shuffle=False)\n",
    "for train, test in kf.split(cardX):\n",
    "    clf.fit(cardX[train], cardY3[train])"
   ]
  },
  {
   "cell_type": "code",
   "execution_count": 78,
   "metadata": {},
   "outputs": [],
   "source": [
    "predictions = clf.predict(cardX)"
   ]
  },
  {
   "cell_type": "code",
   "execution_count": 79,
   "metadata": {},
   "outputs": [],
   "source": [
    "proba = clf.predict_proba(cardX)"
   ]
  },
  {
   "cell_type": "code",
   "execution_count": 80,
   "metadata": {},
   "outputs": [
    {
     "data": {
      "text/plain": [
       "0.90404515522107243"
      ]
     },
     "execution_count": 80,
     "metadata": {},
     "output_type": "execute_result"
    }
   ],
   "source": [
    "clf.score(cardX, cardY3)"
   ]
  },
  {
   "cell_type": "code",
   "execution_count": 226,
   "metadata": {},
   "outputs": [],
   "source": [
    "cardY3new = [d - 1 for d in cardY3]"
   ]
  },
  {
   "cell_type": "code",
   "execution_count": 234,
   "metadata": {},
   "outputs": [
    {
     "name": "stdout",
     "output_type": "stream",
     "text": [
      "[ 426  427  428 ..., 2123 2124 2125]\n",
      "[   0    1    2 ..., 2123 2124 2125]\n",
      "[   0    1    2 ..., 2123 2124 2125]\n",
      "[   0    1    2 ..., 2123 2124 2125]\n",
      "[   0    1    2 ..., 1698 1699 1700]\n",
      "0.855597365945\n"
     ]
    }
   ],
   "source": [
    "cardY10new = [d - 1 for d in cardY10]\n",
    "cardY10new = np.array(cardY10new)\n",
    "clf = RandomForestClassifier(max_depth=6, random_state=0)\n",
    "classify_dataset(cardX, cardY10new, clf, 'cardiotocography_10')"
   ]
  },
  {
   "cell_type": "code",
   "execution_count": null,
   "metadata": {
    "collapsed": true
   },
   "outputs": [],
   "source": [
    "cardY10new = np.array(cardY10new)\n",
    "clf = RandomForestClassifier(max_depth=3, random_state=0)\n",
    "classify_dataset(cardX, cardY3new, clf, 'cardiotocography_3')"
   ]
  },
  {
   "cell_type": "code",
   "execution_count": 81,
   "metadata": {
    "collapsed": true
   },
   "outputs": [],
   "source": [
    "np.savetxt('cardiotocography_predictions_3.csv', predictions, delimiter=\",\", fmt='%d')\n",
    "np.savetxt('cardiotocography_proba_3.csv', proba, delimiter=\",\")"
   ]
  },
  {
   "cell_type": "code",
   "execution_count": 186,
   "metadata": {
    "collapsed": true
   },
   "outputs": [],
   "source": [
    "def classify_dataset(X, Y, clf, name):\n",
    "    skf = StratifiedKFold(n_splits=5, shuffle=False)\n",
    "    for train, test in kf.split(X):\n",
    "        print train\n",
    "        clf.fit(X[train], Y[train])\n",
    "    predictions = clf.predict(X)\n",
    "    proba = clf.predict_proba(X)\n",
    "    print(clf.score(X, Y))\n",
    "    np.savetxt(name + '_target.csv', Y, delimiter=\",\", fmt='%d')\n",
    "    np.savetxt(name + '_prediction.csv', predictions, delimiter=\",\", fmt='%d')\n",
    "    np.savetxt(name + '_proba.csv', proba, delimiter=\",\")"
   ]
  },
  {
   "cell_type": "code",
   "execution_count": 84,
   "metadata": {},
   "outputs": [],
   "source": [
    "cardY10 = np.array(cardY10)\n",
    "clf = RandomForestClassifier(max_depth=4, random_state=0)\n",
    "classify_dataset(cardX, cardY10, clf, 'cardiotocography_10')"
   ]
  },
  {
   "cell_type": "markdown",
   "metadata": {},
   "source": [
    "## Parkinson"
   ]
  },
  {
   "cell_type": "code",
   "execution_count": 144,
   "metadata": {
    "collapsed": true
   },
   "outputs": [],
   "source": [
    "park = pd.read_csv(\"parkinson.csv\")"
   ]
  },
  {
   "cell_type": "code",
   "execution_count": 145,
   "metadata": {},
   "outputs": [],
   "source": [
    "park = park.drop(['name'], axis=1)"
   ]
  },
  {
   "cell_type": "code",
   "execution_count": 147,
   "metadata": {},
   "outputs": [],
   "source": [
    "target = park['status'].values\n",
    "np.savetxt('parkinson_target.csv', target, delimiter=\",\", fmt='%d')"
   ]
  },
  {
   "cell_type": "code",
   "execution_count": 99,
   "metadata": {},
   "outputs": [],
   "source": [
    "park = park.drop(['status'], axis=1)"
   ]
  },
  {
   "cell_type": "code",
   "execution_count": 103,
   "metadata": {},
   "outputs": [],
   "source": [
    "parkX = park.as_matrix()"
   ]
  },
  {
   "cell_type": "code",
   "execution_count": 108,
   "metadata": {},
   "outputs": [
    {
     "name": "stdout",
     "output_type": "stream",
     "text": [
      "0.892307692308\n"
     ]
    }
   ],
   "source": [
    "clf = RandomForestClassifier(max_depth=4, random_state=0)\n",
    "classify_dataset(parkX, target, clf, 'parkinson')"
   ]
  },
  {
   "cell_type": "markdown",
   "metadata": {},
   "source": [
    "## Phishing"
   ]
  },
  {
   "cell_type": "code",
   "execution_count": 132,
   "metadata": {},
   "outputs": [],
   "source": [
    "phishing = load_data_file('phishing.csv', csv.QUOTE_NONNUMERIC)"
   ]
  },
  {
   "cell_type": "code",
   "execution_count": 120,
   "metadata": {
    "collapsed": true
   },
   "outputs": [],
   "source": [
    "phishingY = [d[-1] for d in phishing]"
   ]
  },
  {
   "cell_type": "code",
   "execution_count": 122,
   "metadata": {},
   "outputs": [],
   "source": [
    "phishingY = np.asarray(phishingY)"
   ]
  },
  {
   "cell_type": "code",
   "execution_count": 134,
   "metadata": {},
   "outputs": [],
   "source": [
    "phishing = [d[:-1] for d in phishing]"
   ]
  },
  {
   "cell_type": "code",
   "execution_count": 135,
   "metadata": {
    "collapsed": true
   },
   "outputs": [],
   "source": [
    "phishing = np.asarray(phishing)"
   ]
  },
  {
   "cell_type": "code",
   "execution_count": 136,
   "metadata": {},
   "outputs": [
    {
     "data": {
      "text/plain": [
       "(1353, 9)"
      ]
     },
     "execution_count": 136,
     "metadata": {},
     "output_type": "execute_result"
    }
   ],
   "source": [
    "phishing.shape"
   ]
  },
  {
   "cell_type": "code",
   "execution_count": 148,
   "metadata": {},
   "outputs": [
    {
     "name": "stdout",
     "output_type": "stream",
     "text": [
      "0.841832963784\n"
     ]
    }
   ],
   "source": [
    "clf = RandomForestClassifier(max_depth=2, random_state=0)\n",
    "classify_dataset(phishing, phishingY, clf, 'phishing')"
   ]
  },
  {
   "cell_type": "code",
   "execution_count": null,
   "metadata": {
    "collapsed": true
   },
   "outputs": [],
   "source": []
  }
 ],
 "metadata": {
  "kernelspec": {
   "display_name": "Python 3",
   "language": "python",
   "name": "python3"
  },
  "language_info": {
   "codemirror_mode": {
    "name": "ipython",
    "version": 3
   },
   "file_extension": ".py",
   "mimetype": "text/x-python",
   "name": "python",
   "nbconvert_exporter": "python",
   "pygments_lexer": "ipython3",
   "version": "3.6.5"
  }
 },
 "nbformat": 4,
 "nbformat_minor": 2
}
